{
 "cells": [
  {
   "cell_type": "code",
   "execution_count": 1,
   "metadata": {},
   "outputs": [],
   "source": [
    "import numpy as np\n",
    "import pandas as pd\n",
    "import matplotlib.pyplot as plt\n",
    "from datetime import datetime\n",
    "%matplotlib inline\n",
    "plt.style.use('ggplot')"
   ]
  },
  {
   "cell_type": "code",
   "execution_count": 2,
   "metadata": {},
   "outputs": [
    {
     "data": {
      "text/plain": [
       "Index(['ID', 'name', 'category', 'main_category', 'currency', 'deadline',\n",
       "       'goal', 'launched', 'pledged', 'state', 'backers', 'country',\n",
       "       'usd pledged', 'usd_pledged_real', 'usd_goal_real'],\n",
       "      dtype='object')"
      ]
     },
     "execution_count": 2,
     "metadata": {},
     "output_type": "execute_result"
    }
   ],
   "source": [
    "kaggle = pd.read_csv('data/ks-projects-201801.csv', parse_dates=['deadline', 'launched'])\n",
    "kaggle.columns"
   ]
  },
  {
   "cell_type": "code",
   "execution_count": 3,
   "metadata": {},
   "outputs": [],
   "source": [
    "# remove duplicate columns and keep columns that are converted to US currency for consistency\n",
    "kaggle = kaggle.drop(['pledged', 'usd pledged', 'goal'], axis =1)"
   ]
  },
  {
   "cell_type": "code",
   "execution_count": 4,
   "metadata": {},
   "outputs": [
    {
     "data": {
      "text/html": [
       "<div>\n",
       "<style scoped>\n",
       "    .dataframe tbody tr th:only-of-type {\n",
       "        vertical-align: middle;\n",
       "    }\n",
       "\n",
       "    .dataframe tbody tr th {\n",
       "        vertical-align: top;\n",
       "    }\n",
       "\n",
       "    .dataframe thead th {\n",
       "        text-align: right;\n",
       "    }\n",
       "</style>\n",
       "<table border=\"1\" class=\"dataframe\">\n",
       "  <thead>\n",
       "    <tr style=\"text-align: right;\">\n",
       "      <th></th>\n",
       "      <th>ID</th>\n",
       "      <th>name</th>\n",
       "      <th>category</th>\n",
       "      <th>main_category</th>\n",
       "      <th>currency</th>\n",
       "      <th>deadline</th>\n",
       "      <th>launched</th>\n",
       "      <th>state</th>\n",
       "      <th>backers</th>\n",
       "      <th>country</th>\n",
       "      <th>usd_pledged_real</th>\n",
       "      <th>usd_goal_real</th>\n",
       "    </tr>\n",
       "  </thead>\n",
       "  <tbody>\n",
       "    <tr>\n",
       "      <th>0</th>\n",
       "      <td>1000002330</td>\n",
       "      <td>The Songs of Adelaide &amp; Abullah</td>\n",
       "      <td>Poetry</td>\n",
       "      <td>Publishing</td>\n",
       "      <td>GBP</td>\n",
       "      <td>2015-10-09</td>\n",
       "      <td>2015-08-11 12:12:28</td>\n",
       "      <td>failed</td>\n",
       "      <td>0</td>\n",
       "      <td>GB</td>\n",
       "      <td>0.0</td>\n",
       "      <td>1533.95</td>\n",
       "    </tr>\n",
       "    <tr>\n",
       "      <th>1</th>\n",
       "      <td>1000003930</td>\n",
       "      <td>Greeting From Earth: ZGAC Arts Capsule For ET</td>\n",
       "      <td>Narrative Film</td>\n",
       "      <td>Film &amp; Video</td>\n",
       "      <td>USD</td>\n",
       "      <td>2017-11-01</td>\n",
       "      <td>2017-09-02 04:43:57</td>\n",
       "      <td>failed</td>\n",
       "      <td>15</td>\n",
       "      <td>US</td>\n",
       "      <td>2421.0</td>\n",
       "      <td>30000.00</td>\n",
       "    </tr>\n",
       "    <tr>\n",
       "      <th>2</th>\n",
       "      <td>1000004038</td>\n",
       "      <td>Where is Hank?</td>\n",
       "      <td>Narrative Film</td>\n",
       "      <td>Film &amp; Video</td>\n",
       "      <td>USD</td>\n",
       "      <td>2013-02-26</td>\n",
       "      <td>2013-01-12 00:20:50</td>\n",
       "      <td>failed</td>\n",
       "      <td>3</td>\n",
       "      <td>US</td>\n",
       "      <td>220.0</td>\n",
       "      <td>45000.00</td>\n",
       "    </tr>\n",
       "    <tr>\n",
       "      <th>3</th>\n",
       "      <td>1000007540</td>\n",
       "      <td>ToshiCapital Rekordz Needs Help to Complete Album</td>\n",
       "      <td>Music</td>\n",
       "      <td>Music</td>\n",
       "      <td>USD</td>\n",
       "      <td>2012-04-16</td>\n",
       "      <td>2012-03-17 03:24:11</td>\n",
       "      <td>failed</td>\n",
       "      <td>1</td>\n",
       "      <td>US</td>\n",
       "      <td>1.0</td>\n",
       "      <td>5000.00</td>\n",
       "    </tr>\n",
       "    <tr>\n",
       "      <th>4</th>\n",
       "      <td>1000011046</td>\n",
       "      <td>Community Film Project: The Art of Neighborhoo...</td>\n",
       "      <td>Film &amp; Video</td>\n",
       "      <td>Film &amp; Video</td>\n",
       "      <td>USD</td>\n",
       "      <td>2015-08-29</td>\n",
       "      <td>2015-07-04 08:35:03</td>\n",
       "      <td>canceled</td>\n",
       "      <td>14</td>\n",
       "      <td>US</td>\n",
       "      <td>1283.0</td>\n",
       "      <td>19500.00</td>\n",
       "    </tr>\n",
       "  </tbody>\n",
       "</table>\n",
       "</div>"
      ],
      "text/plain": [
       "           ID                                               name  \\\n",
       "0  1000002330                    The Songs of Adelaide & Abullah   \n",
       "1  1000003930      Greeting From Earth: ZGAC Arts Capsule For ET   \n",
       "2  1000004038                                     Where is Hank?   \n",
       "3  1000007540  ToshiCapital Rekordz Needs Help to Complete Album   \n",
       "4  1000011046  Community Film Project: The Art of Neighborhoo...   \n",
       "\n",
       "         category main_category currency   deadline            launched  \\\n",
       "0          Poetry    Publishing      GBP 2015-10-09 2015-08-11 12:12:28   \n",
       "1  Narrative Film  Film & Video      USD 2017-11-01 2017-09-02 04:43:57   \n",
       "2  Narrative Film  Film & Video      USD 2013-02-26 2013-01-12 00:20:50   \n",
       "3           Music         Music      USD 2012-04-16 2012-03-17 03:24:11   \n",
       "4    Film & Video  Film & Video      USD 2015-08-29 2015-07-04 08:35:03   \n",
       "\n",
       "      state  backers country  usd_pledged_real  usd_goal_real  \n",
       "0    failed        0      GB               0.0        1533.95  \n",
       "1    failed       15      US            2421.0       30000.00  \n",
       "2    failed        3      US             220.0       45000.00  \n",
       "3    failed        1      US               1.0        5000.00  \n",
       "4  canceled       14      US            1283.0       19500.00  "
      ]
     },
     "execution_count": 4,
     "metadata": {},
     "output_type": "execute_result"
    }
   ],
   "source": [
    "kaggle.head()"
   ]
  },
  {
   "cell_type": "code",
   "execution_count": 5,
   "metadata": {},
   "outputs": [],
   "source": [
    "# Not enough data in kaggle dataset, so supplement with harvard dataset\n",
    "harvard = pd.read_csv('data/harvard_kickstarter.csv', low_memory=False)"
   ]
  },
  {
   "cell_type": "code",
   "execution_count": 6,
   "metadata": {},
   "outputs": [],
   "source": [
    "harvard['successful_at'] = pd.to_datetime(harvard['successful_at'], unit='s')"
   ]
  },
  {
   "cell_type": "code",
   "execution_count": 7,
   "metadata": {},
   "outputs": [
    {
     "data": {
      "text/plain": [
       "Index(['id', 'state', 'url_project', 'url_project_short', 'name', 'country',\n",
       "       'creator_id', 'location_id', 'category_id', 'created_at', 'deadline',\n",
       "       'updated_at', 'state_changed_at', 'successful_at', 'launched_at',\n",
       "       'goal', 'pledged', 'currency', 'currency_symbol', 'usd_pledged',\n",
       "       'static_usd_rate', 'backers_count', 'comments_count', 'updates_count',\n",
       "       'spotlight', 'staff_pick', 'blurb', 'currency_trailing_code',\n",
       "       'disable_communication', 'photo_url', 'profile_background_color',\n",
       "       'profile_background_image_opacity', 'profile_blurb', 'profile_id',\n",
       "       'profile_link_background_color', 'profile_link_text',\n",
       "       'profile_link_text_color', 'profile_link_url', 'profile_name',\n",
       "       'profile_project_id', 'profile_should_show_feature_image_section',\n",
       "       'profile_show_feature_image', 'profile_state',\n",
       "       'profile_state_changed_at', 'profile_text_color', 'slug', 'url_rewards',\n",
       "       'url_updates', 'video_id', 'video_url_high', 'video_url_webm',\n",
       "       'video_height', 'video_width', 'video_status', 'file_name',\n",
       "       'last_modification', 'deleted_comments'],\n",
       "      dtype='object')"
      ]
     },
     "execution_count": 7,
     "metadata": {},
     "output_type": "execute_result"
    }
   ],
   "source": [
    "harvard.columns"
   ]
  },
  {
   "cell_type": "code",
   "execution_count": 8,
   "metadata": {},
   "outputs": [],
   "source": [
    "# ignoring URLs, User Info\n",
    "harvard = harvard.drop(['url_project', 'url_project_short', 'creator_id','currency_symbol', 'static_usd_rate',\n",
    "                        'currency_trailing_code', 'disable_communication', 'photo_url', 'profile_background_color',\n",
    "                        'profile_background_image_opacity','profile_blurb', 'profile_id', 'profile_blurb', 'profile_id',\n",
    "                        'profile_link_background_color', 'profile_link_text',\n",
    "                        'profile_link_text_color', 'profile_link_url', 'profile_name',\n",
    "                        'profile_project_id', 'profile_should_show_feature_image_section',\n",
    "                        'profile_show_feature_image', 'profile_state',\n",
    "                        'profile_state_changed_at', 'profile_text_color','slug', 'url_rewards',\n",
    "                        'url_updates', 'video_id', 'video_url_high', 'video_url_webm',\n",
    "                        'video_height', 'video_width', 'video_status', 'file_name',\n",
    "                        'last_modification', 'deleted_comments'], axis = 1)"
   ]
  },
  {
   "cell_type": "code",
   "execution_count": 9,
   "metadata": {},
   "outputs": [],
   "source": [
    "# remove duplicate and unnecessary columns in harvard df\n",
    "harvard = harvard.drop(['state', 'name', 'country', 'location_id', 'category_id','created_at', \n",
    "                        'deadline','updated_at', 'state_changed_at','launched_at', 'goal', \n",
    "                        'pledged', 'currency', 'usd_pledged', 'backers_count'], axis = 1)"
   ]
  },
  {
   "cell_type": "code",
   "execution_count": null,
   "metadata": {},
   "outputs": [],
   "source": []
  },
  {
   "cell_type": "code",
   "execution_count": 10,
   "metadata": {},
   "outputs": [],
   "source": [
    "# rename column for merging\n",
    "kaggle = kaggle.rename(columns = {'ID':'id'})"
   ]
  },
  {
   "cell_type": "code",
   "execution_count": 11,
   "metadata": {},
   "outputs": [],
   "source": [
    "# Join Kaggle and Harvard Datasets\n",
    "\n",
    "df = pd.merge(kaggle, harvard, on = 'id', how = 'inner')"
   ]
  },
  {
   "cell_type": "code",
   "execution_count": 12,
   "metadata": {},
   "outputs": [
    {
     "data": {
      "text/plain": [
       "Index(['id', 'name', 'category', 'main_category', 'currency', 'deadline',\n",
       "       'launched', 'state', 'backers', 'country', 'usd_pledged_real',\n",
       "       'usd_goal_real', 'successful_at', 'comments_count', 'updates_count',\n",
       "       'spotlight', 'staff_pick', 'blurb'],\n",
       "      dtype='object')"
      ]
     },
     "execution_count": 12,
     "metadata": {},
     "output_type": "execute_result"
    }
   ],
   "source": [
    "df.columns"
   ]
  },
  {
   "cell_type": "code",
   "execution_count": null,
   "metadata": {},
   "outputs": [],
   "source": []
  },
  {
   "cell_type": "code",
   "execution_count": 13,
   "metadata": {},
   "outputs": [],
   "source": [
    "# ID not necessary\n",
    "\n",
    "df = df.drop(['id'], axis =1)"
   ]
  },
  {
   "cell_type": "code",
   "execution_count": 14,
   "metadata": {},
   "outputs": [
    {
     "name": "stdout",
     "output_type": "stream",
     "text": [
      "<class 'pandas.core.frame.DataFrame'>\n",
      "Int64Index: 360744 entries, 0 to 360743\n",
      "Data columns (total 17 columns):\n",
      " #   Column            Non-Null Count   Dtype         \n",
      "---  ------            --------------   -----         \n",
      " 0   name              360740 non-null  object        \n",
      " 1   category          360744 non-null  object        \n",
      " 2   main_category     360744 non-null  object        \n",
      " 3   currency          360744 non-null  object        \n",
      " 4   deadline          360744 non-null  datetime64[ns]\n",
      " 5   launched          360744 non-null  datetime64[ns]\n",
      " 6   state             360744 non-null  object        \n",
      " 7   backers           360744 non-null  int64         \n",
      " 8   country           360744 non-null  object        \n",
      " 9   usd_pledged_real  360744 non-null  float64       \n",
      " 10  usd_goal_real     360744 non-null  float64       \n",
      " 11  successful_at     134824 non-null  datetime64[ns]\n",
      " 12  comments_count    360744 non-null  int64         \n",
      " 13  updates_count     360744 non-null  int64         \n",
      " 14  spotlight         360744 non-null  object        \n",
      " 15  staff_pick        360744 non-null  object        \n",
      " 16  blurb             360719 non-null  object        \n",
      "dtypes: datetime64[ns](3), float64(2), int64(3), object(9)\n",
      "memory usage: 49.5+ MB\n"
     ]
    }
   ],
   "source": [
    "df.info()"
   ]
  },
  {
   "cell_type": "code",
   "execution_count": 15,
   "metadata": {},
   "outputs": [
    {
     "data": {
      "text/plain": [
       "name                     4\n",
       "category                 0\n",
       "main_category            0\n",
       "currency                 0\n",
       "deadline                 0\n",
       "launched                 0\n",
       "state                    0\n",
       "backers                  0\n",
       "country                  0\n",
       "usd_pledged_real         0\n",
       "usd_goal_real            0\n",
       "successful_at       225920\n",
       "comments_count           0\n",
       "updates_count            0\n",
       "spotlight                0\n",
       "staff_pick               0\n",
       "blurb                   25\n",
       "dtype: int64"
      ]
     },
     "execution_count": 15,
     "metadata": {},
     "output_type": "execute_result"
    }
   ],
   "source": [
    "df.isna().sum()"
   ]
  },
  {
   "cell_type": "code",
   "execution_count": 16,
   "metadata": {},
   "outputs": [
    {
     "data": {
      "text/plain": [
       "(360744, 17)"
      ]
     },
     "execution_count": 16,
     "metadata": {},
     "output_type": "execute_result"
    }
   ],
   "source": [
    "df.shape"
   ]
  },
  {
   "cell_type": "code",
   "execution_count": 17,
   "metadata": {},
   "outputs": [],
   "source": [
    "# fill the 4 rows with name missing and 25 rows with blurb missing (with 'blank')\n",
    "# fill successful_at NA with values from deadline\n",
    "df = df.fillna(value = {'name':'blank', 'blurb':'blank', 'successful_at':df['deadline']})"
   ]
  },
  {
   "cell_type": "code",
   "execution_count": 18,
   "metadata": {},
   "outputs": [
    {
     "data": {
      "text/plain": [
       "False    195311\n",
       "True     103017\n",
       "1         31807\n",
       "0         30609\n",
       "Name: spotlight, dtype: int64"
      ]
     },
     "execution_count": 18,
     "metadata": {},
     "output_type": "execute_result"
    }
   ],
   "source": [
    "#messy data\n",
    "df.spotlight.value_counts()"
   ]
  },
  {
   "cell_type": "code",
   "execution_count": 19,
   "metadata": {},
   "outputs": [
    {
     "data": {
      "text/plain": [
       "False    272582\n",
       "0         52846\n",
       "True      25746\n",
       "1          9570\n",
       "Name: staff_pick, dtype: int64"
      ]
     },
     "execution_count": 19,
     "metadata": {},
     "output_type": "execute_result"
    }
   ],
   "source": [
    "#messy data\n",
    "df.staff_pick.value_counts()"
   ]
  },
  {
   "cell_type": "code",
   "execution_count": 20,
   "metadata": {},
   "outputs": [],
   "source": [
    "# fix messy data spotlight\n",
    "\n",
    "df['spotlight'] = df['spotlight'].apply(lambda x: 1 if (x == 'True' or x == '1') else 0)"
   ]
  },
  {
   "cell_type": "code",
   "execution_count": 21,
   "metadata": {},
   "outputs": [
    {
     "data": {
      "text/plain": [
       "0    0.626261\n",
       "1    0.373739\n",
       "Name: spotlight, dtype: float64"
      ]
     },
     "execution_count": 21,
     "metadata": {},
     "output_type": "execute_result"
    }
   ],
   "source": [
    "# ratio of spotlight to non-spotlight projects\n",
    "counts = df.spotlight.value_counts()\n",
    "spotlight_proportion = counts/counts.sum()\n",
    "spotlight_proportion"
   ]
  },
  {
   "cell_type": "code",
   "execution_count": 22,
   "metadata": {},
   "outputs": [],
   "source": [
    "#fix messy data staff_pick\n",
    "\n",
    "df['staff_pick'] = df['staff_pick'].apply(lambda x: 1 if (x == 'True' or x == '1') else 0)"
   ]
  },
  {
   "cell_type": "code",
   "execution_count": 23,
   "metadata": {},
   "outputs": [
    {
     "data": {
      "text/plain": [
       "0    0.902102\n",
       "1    0.097898\n",
       "Name: staff_pick, dtype: float64"
      ]
     },
     "execution_count": 23,
     "metadata": {},
     "output_type": "execute_result"
    }
   ],
   "source": [
    "# ratio of staff_pick to non-staff_pick projects\n",
    "counts = df.staff_pick.value_counts()\n",
    "staff_pick_proportion = counts/counts.sum()\n",
    "staff_pick_proportion"
   ]
  },
  {
   "cell_type": "code",
   "execution_count": 24,
   "metadata": {},
   "outputs": [
    {
     "data": {
      "text/plain": [
       "failed        189543\n",
       "successful    132775\n",
       "canceled       32242\n",
       "live            2751\n",
       "undefined       2002\n",
       "suspended       1431\n",
       "Name: state, dtype: int64"
      ]
     },
     "execution_count": 24,
     "metadata": {},
     "output_type": "execute_result"
    }
   ],
   "source": [
    "states = df.state.value_counts(); states"
   ]
  },
  {
   "cell_type": "code",
   "execution_count": 25,
   "metadata": {},
   "outputs": [
    {
     "data": {
      "image/png": "[encoded data removed]",
      "text/plain": [
       "<Figure size 432x288 with 1 Axes>"
      ]
     },
     "metadata": {},
     "output_type": "display_data"
    }
   ],
   "source": [
    "plt.bar(x = states.index, height = states.values)\n",
    "plt.title('States Distribution')\n",
    "plt.ylabel('Number of projects')\n",
    "plt.xlabel('state')\n",
    "plt.rc('xtick', labelsize=10) \n",
    "plt.rc('ytick', labelsize=15) \n",
    "plt.rc('axes', titlesize=20)\n",
    "plt.rc('axes', labelsize = 15)"
   ]
  },
  {
   "cell_type": "code",
   "execution_count": 26,
   "metadata": {},
   "outputs": [],
   "source": [
    "#drop live state, suspended, undefined projects\n",
    "#suspended project broke kickstarter rules, undefined projects possibly not yet launched or missing data\n",
    "\n",
    "df = df[df.state != 'live']\n",
    "df = df[df.state != 'suspended']\n",
    "df = df[df.state != 'undefined']"
   ]
  },
  {
   "cell_type": "code",
   "execution_count": 27,
   "metadata": {},
   "outputs": [
    {
     "data": {
      "text/plain": [
       "failed        189543\n",
       "successful    132775\n",
       "canceled       32242\n",
       "Name: state, dtype: int64"
      ]
     },
     "execution_count": 27,
     "metadata": {},
     "output_type": "execute_result"
    }
   ],
   "source": [
    "df.state.value_counts()"
   ]
  },
  {
   "cell_type": "code",
   "execution_count": 28,
   "metadata": {},
   "outputs": [],
   "source": [
    "# sucessful labeled as 1, failed and canceled labeled as 0\n",
    "\n",
    "df['state'] = (df['state'] == 'successful')*1"
   ]
  },
  {
   "cell_type": "code",
   "execution_count": 29,
   "metadata": {},
   "outputs": [
    {
     "data": {
      "text/plain": [
       "0    221785\n",
       "1    132775\n",
       "Name: state, dtype: int64"
      ]
     },
     "execution_count": 29,
     "metadata": {},
     "output_type": "execute_result"
    }
   ],
   "source": [
    "counts = df.state.value_counts()\n",
    "counts"
   ]
  },
  {
   "cell_type": "code",
   "execution_count": 30,
   "metadata": {},
   "outputs": [
    {
     "data": {
      "text/plain": [
       "0    0.625522\n",
       "1    0.374478\n",
       "Name: state, dtype: float64"
      ]
     },
     "execution_count": 30,
     "metadata": {},
     "output_type": "execute_result"
    }
   ],
   "source": [
    "state_proportion = counts/counts.sum()\n",
    "state_proportion"
   ]
  },
  {
   "cell_type": "code",
   "execution_count": 31,
   "metadata": {},
   "outputs": [
    {
     "data": {
      "text/plain": [
       "Timestamp('2009-05-03 00:00:00')"
      ]
     },
     "execution_count": 31,
     "metadata": {},
     "output_type": "execute_result"
    }
   ],
   "source": [
    "df.deadline.min()"
   ]
  },
  {
   "cell_type": "code",
   "execution_count": 32,
   "metadata": {},
   "outputs": [
    {
     "data": {
      "text/plain": [
       "Timestamp('2018-02-20 00:00:00')"
      ]
     },
     "execution_count": 32,
     "metadata": {},
     "output_type": "execute_result"
    }
   ],
   "source": [
    "df.deadline.max()"
   ]
  },
  {
   "cell_type": "code",
   "execution_count": 33,
   "metadata": {},
   "outputs": [
    {
     "data": {
      "text/plain": [
       "Timestamp('2009-04-21 21:02:48')"
      ]
     },
     "execution_count": 33,
     "metadata": {},
     "output_type": "execute_result"
    }
   ],
   "source": [
    "df.launched.min()"
   ]
  },
  {
   "cell_type": "code",
   "execution_count": 34,
   "metadata": {},
   "outputs": [
    {
     "data": {
      "text/plain": [
       "Timestamp('2017-12-29 21:06:11')"
      ]
     },
     "execution_count": 34,
     "metadata": {},
     "output_type": "execute_result"
    }
   ],
   "source": [
    "df.launched.max()"
   ]
  },
  {
   "cell_type": "code",
   "execution_count": 35,
   "metadata": {},
   "outputs": [
    {
     "data": {
      "text/plain": [
       "59156"
      ]
     },
     "execution_count": 35,
     "metadata": {},
     "output_type": "execute_result"
    }
   ],
   "source": [
    "df.launched.idxmax()"
   ]
  },
  {
   "cell_type": "code",
   "execution_count": 36,
   "metadata": {},
   "outputs": [
    {
     "data": {
      "text/plain": [
       "name                Toy Museum and Bazaar (featuring G1 Transforme...\n",
       "category                                                Installations\n",
       "main_category                                                     Art\n",
       "currency                                                          USD\n",
       "deadline                                          2015-04-11 00:00:00\n",
       "launched                                          2015-03-12 02:18:12\n",
       "state                                                               0\n",
       "backers                                                             0\n",
       "country                                                            US\n",
       "usd_pledged_real                                                    0\n",
       "usd_goal_real                                                   80000\n",
       "successful_at                                     2015-04-11 00:00:00\n",
       "comments_count                                                      0\n",
       "updates_count                                                       0\n",
       "spotlight                                                           0\n",
       "staff_pick                                                          0\n",
       "blurb               To showcase toys G1 TFs and also give a place ...\n",
       "Name: 60167, dtype: object"
      ]
     },
     "execution_count": 36,
     "metadata": {},
     "output_type": "execute_result"
    }
   ],
   "source": [
    "df.iloc[59156]"
   ]
  },
  {
   "cell_type": "code",
   "execution_count": 37,
   "metadata": {},
   "outputs": [
    {
     "data": {
      "text/plain": [
       "launched\n",
       "2009     1329\n",
       "2010    10503\n",
       "2011    26193\n",
       "2012    41111\n",
       "2013    44791\n",
       "2014    65923\n",
       "2015    66068\n",
       "2016    52408\n",
       "2017    46234\n",
       "Name: launched, dtype: int64"
      ]
     },
     "execution_count": 37,
     "metadata": {},
     "output_type": "execute_result"
    }
   ],
   "source": [
    "df['launched'].groupby(df.launched.dt.year).count()"
   ]
  },
  {
   "cell_type": "code",
   "execution_count": 38,
   "metadata": {},
   "outputs": [],
   "source": [
    "# drop lauch year 1970 due to launch date error\n",
    "\n",
    "df = df[df.launched.dt.year != 1970]"
   ]
  },
  {
   "cell_type": "code",
   "execution_count": 39,
   "metadata": {},
   "outputs": [
    {
     "data": {
      "image/png": "[encoded data removed]",
      "text/plain": [
       "<Figure size 1008x288 with 1 Axes>"
      ]
     },
     "metadata": {},
     "output_type": "display_data"
    }
   ],
   "source": [
    "years = df['launched'].groupby(df.launched.dt.year).count()\n",
    "\n",
    "fig, ax = plt.subplots(1, figsize = (14, 4))\n",
    "\n",
    "ax.bar(x = years.index, height = years.values)\n",
    "plt.title('Project Year Distribution')\n",
    "plt.ylabel('Number of projects')\n",
    "plt.xlabel('Year')\n",
    "plt.rc('xtick', labelsize=10) \n",
    "plt.xticks(rotation =45)\n",
    "plt.rc('ytick', labelsize=15) \n",
    "plt.rc('axes', titlesize=20)\n",
    "plt.rc('axes', labelsize = 15)"
   ]
  },
  {
   "cell_type": "code",
   "execution_count": 40,
   "metadata": {},
   "outputs": [
    {
     "data": {
      "text/plain": [
       "launched\n",
       "2009     1329\n",
       "2010    10503\n",
       "2011    26193\n",
       "2012    41111\n",
       "2013    44791\n",
       "2014    65923\n",
       "2015    66068\n",
       "2016    52408\n",
       "2017    46234\n",
       "Name: launched, dtype: int64"
      ]
     },
     "execution_count": 40,
     "metadata": {},
     "output_type": "execute_result"
    }
   ],
   "source": [
    "df['launched'].groupby(df.launched.dt.year).count()"
   ]
  },
  {
   "cell_type": "code",
   "execution_count": 41,
   "metadata": {},
   "outputs": [
    {
     "data": {
      "text/plain": [
       "Product Design     19829\n",
       "Documentary        15020\n",
       "Tabletop Games     12905\n",
       "Music              12270\n",
       "Shorts             11972\n",
       "                   ...  \n",
       "Residencies           69\n",
       "Letterpress           47\n",
       "Chiptune              35\n",
       "Literary Spaces       23\n",
       "Taxidermy             11\n",
       "Name: category, Length: 159, dtype: int64"
      ]
     },
     "execution_count": 41,
     "metadata": {},
     "output_type": "execute_result"
    }
   ],
   "source": [
    "category = df['category'].value_counts(); category"
   ]
  },
  {
   "cell_type": "code",
   "execution_count": 42,
   "metadata": {},
   "outputs": [
    {
     "data": {
      "image/png": "[encoded data removed]",
      "text/plain": [
       "<Figure size 1008x288 with 1 Axes>"
      ]
     },
     "metadata": {},
     "output_type": "display_data"
    }
   ],
   "source": [
    "fig, ax = plt.subplots(1, figsize = (14, 4))\n",
    "\n",
    "ax.bar(x = category.index[:10], height = category.values[:10])\n",
    "plt.title('Top 10 Sub-Category Distribution')\n",
    "plt.ylabel('Number of projects')\n",
    "plt.xlabel('Sub-Category')\n",
    "plt.xticks(rotation =45)\n",
    "plt.rc('xtick', labelsize=10) \n",
    "plt.rc('ytick', labelsize=15) \n",
    "plt.rc('axes', titlesize=20)\n",
    "plt.rc('axes', labelsize = 15)"
   ]
  },
  {
   "cell_type": "code",
   "execution_count": 43,
   "metadata": {},
   "outputs": [
    {
     "data": {
      "text/plain": [
       "Film & Video    59973\n",
       "Music           47960\n",
       "Publishing      37375\n",
       "Games           32143\n",
       "Technology      30074\n",
       "Art             26799\n",
       "Design          26734\n",
       "Food            23211\n",
       "Fashion         21580\n",
       "Theater         10805\n",
       "Comics          10600\n",
       "Photography     10564\n",
       "Crafts           8347\n",
       "Journalism       4665\n",
       "Dance            3730\n",
       "Name: main_category, dtype: int64"
      ]
     },
     "execution_count": 43,
     "metadata": {},
     "output_type": "execute_result"
    }
   ],
   "source": [
    "main_category = df['main_category'].value_counts();  main_category"
   ]
  },
  {
   "cell_type": "code",
   "execution_count": 44,
   "metadata": {},
   "outputs": [
    {
     "data": {
      "image/png": "[encoded data removed]",
      "text/plain": [
       "<Figure size 1008x288 with 1 Axes>"
      ]
     },
     "metadata": {},
     "output_type": "display_data"
    }
   ],
   "source": [
    "fig, ax = plt.subplots(1, figsize = (14, 4))\n",
    "\n",
    "ax.bar(x = main_category.index, height = main_category.values)\n",
    "plt.title('Main Category Distribution')\n",
    "plt.ylabel('Number of projects')\n",
    "plt.xlabel('Main Category')\n",
    "plt.rc('xtick', labelsize=10) \n",
    "plt.xticks(rotation =45)\n",
    "plt.rc('ytick', labelsize=15) \n",
    "plt.rc('axes', titlesize=20)\n",
    "plt.rc('axes', labelsize = 15)"
   ]
  },
  {
   "cell_type": "code",
   "execution_count": 45,
   "metadata": {},
   "outputs": [
    {
     "data": {
      "image/png": "[encoded data removed]",
      "text/plain": [
       "<Figure size 1008x288 with 1 Axes>"
      ]
     },
     "metadata": {},
     "output_type": "display_data"
    }
   ],
   "source": [
    "currency = df['currency'].value_counts()\n",
    "\n",
    "fig, ax = plt.subplots(1, figsize = (14, 4))\n",
    "\n",
    "ax.bar(x = currency.index, height = currency.values)\n",
    "plt.title('Currency Distribution')\n",
    "plt.ylabel('Number of projects')\n",
    "plt.xlabel('Currency')\n",
    "plt.rc('xtick', labelsize=10) \n",
    "plt.xticks(rotation =45)\n",
    "plt.rc('ytick', labelsize=15) \n",
    "plt.rc('axes', titlesize=20)\n",
    "plt.rc('axes', labelsize = 15)"
   ]
  },
  {
   "cell_type": "code",
   "execution_count": 46,
   "metadata": {},
   "outputs": [
    {
     "data": {
      "image/png": "[encoded data removed]",
      "text/plain": [
       "<Figure size 1008x288 with 1 Axes>"
      ]
     },
     "metadata": {},
     "output_type": "display_data"
    }
   ],
   "source": [
    "# similar distribution to currency so omit this column\n",
    "\n",
    "country = df['country'].value_counts()\n",
    "\n",
    "fig, ax = plt.subplots(1, figsize = (14, 4))\n",
    "\n",
    "ax.bar(x = country.index, height = country.values)\n",
    "plt.title('Country Distribution')\n",
    "plt.ylabel('Number of projects')\n",
    "plt.xlabel('Country')\n",
    "plt.rc('xtick', labelsize=10) \n",
    "plt.xticks(rotation =45)\n",
    "plt.rc('ytick', labelsize=15) \n",
    "plt.rc('axes', titlesize=20)\n",
    "plt.rc('axes', labelsize = 15)"
   ]
  },
  {
   "cell_type": "code",
   "execution_count": 47,
   "metadata": {},
   "outputs": [
    {
     "data": {
      "text/html": [
       "<div>\n",
       "<style scoped>\n",
       "    .dataframe tbody tr th:only-of-type {\n",
       "        vertical-align: middle;\n",
       "    }\n",
       "\n",
       "    .dataframe tbody tr th {\n",
       "        vertical-align: top;\n",
       "    }\n",
       "\n",
       "    .dataframe thead th {\n",
       "        text-align: right;\n",
       "    }\n",
       "</style>\n",
       "<table border=\"1\" class=\"dataframe\">\n",
       "  <thead>\n",
       "    <tr style=\"text-align: right;\">\n",
       "      <th></th>\n",
       "      <th>name</th>\n",
       "      <th>category</th>\n",
       "      <th>main_category</th>\n",
       "      <th>currency</th>\n",
       "      <th>deadline</th>\n",
       "      <th>launched</th>\n",
       "      <th>state</th>\n",
       "      <th>backers</th>\n",
       "      <th>country</th>\n",
       "      <th>usd_pledged_real</th>\n",
       "      <th>usd_goal_real</th>\n",
       "      <th>successful_at</th>\n",
       "      <th>comments_count</th>\n",
       "      <th>updates_count</th>\n",
       "      <th>spotlight</th>\n",
       "      <th>staff_pick</th>\n",
       "      <th>blurb</th>\n",
       "    </tr>\n",
       "  </thead>\n",
       "  <tbody>\n",
       "    <tr>\n",
       "      <th>0</th>\n",
       "      <td>The Songs of Adelaide &amp; Abullah</td>\n",
       "      <td>Poetry</td>\n",
       "      <td>Publishing</td>\n",
       "      <td>GBP</td>\n",
       "      <td>2015-10-09</td>\n",
       "      <td>2015-08-11 12:12:28</td>\n",
       "      <td>0</td>\n",
       "      <td>0</td>\n",
       "      <td>GB</td>\n",
       "      <td>0.0</td>\n",
       "      <td>1533.95</td>\n",
       "      <td>2015-10-09</td>\n",
       "      <td>0</td>\n",
       "      <td>0</td>\n",
       "      <td>0</td>\n",
       "      <td>0</td>\n",
       "      <td>A series of poems about pure love  pursued by ...</td>\n",
       "    </tr>\n",
       "    <tr>\n",
       "      <th>1</th>\n",
       "      <td>Greeting From Earth: ZGAC Arts Capsule For ET</td>\n",
       "      <td>Narrative Film</td>\n",
       "      <td>Film &amp; Video</td>\n",
       "      <td>USD</td>\n",
       "      <td>2017-11-01</td>\n",
       "      <td>2017-09-02 04:43:57</td>\n",
       "      <td>0</td>\n",
       "      <td>15</td>\n",
       "      <td>US</td>\n",
       "      <td>2421.0</td>\n",
       "      <td>30000.00</td>\n",
       "      <td>2017-11-01</td>\n",
       "      <td>0</td>\n",
       "      <td>11</td>\n",
       "      <td>0</td>\n",
       "      <td>1</td>\n",
       "      <td>Back artists creating short movies of Greeting...</td>\n",
       "    </tr>\n",
       "    <tr>\n",
       "      <th>2</th>\n",
       "      <td>Where is Hank?</td>\n",
       "      <td>Narrative Film</td>\n",
       "      <td>Film &amp; Video</td>\n",
       "      <td>USD</td>\n",
       "      <td>2013-02-26</td>\n",
       "      <td>2013-01-12 00:20:50</td>\n",
       "      <td>0</td>\n",
       "      <td>3</td>\n",
       "      <td>US</td>\n",
       "      <td>220.0</td>\n",
       "      <td>45000.00</td>\n",
       "      <td>2013-02-26</td>\n",
       "      <td>0</td>\n",
       "      <td>0</td>\n",
       "      <td>0</td>\n",
       "      <td>0</td>\n",
       "      <td>Abandoned Property. Sounds of struggle, muffle...</td>\n",
       "    </tr>\n",
       "    <tr>\n",
       "      <th>3</th>\n",
       "      <td>ToshiCapital Rekordz Needs Help to Complete Album</td>\n",
       "      <td>Music</td>\n",
       "      <td>Music</td>\n",
       "      <td>USD</td>\n",
       "      <td>2012-04-16</td>\n",
       "      <td>2012-03-17 03:24:11</td>\n",
       "      <td>0</td>\n",
       "      <td>1</td>\n",
       "      <td>US</td>\n",
       "      <td>1.0</td>\n",
       "      <td>5000.00</td>\n",
       "      <td>2012-04-16</td>\n",
       "      <td>0</td>\n",
       "      <td>8</td>\n",
       "      <td>0</td>\n",
       "      <td>0</td>\n",
       "      <td>Keeping Great Reggae Music Alive Through RAW T...</td>\n",
       "    </tr>\n",
       "    <tr>\n",
       "      <th>4</th>\n",
       "      <td>Community Film Project: The Art of Neighborhoo...</td>\n",
       "      <td>Film &amp; Video</td>\n",
       "      <td>Film &amp; Video</td>\n",
       "      <td>USD</td>\n",
       "      <td>2015-08-29</td>\n",
       "      <td>2015-07-04 08:35:03</td>\n",
       "      <td>0</td>\n",
       "      <td>14</td>\n",
       "      <td>US</td>\n",
       "      <td>1283.0</td>\n",
       "      <td>19500.00</td>\n",
       "      <td>2015-08-29</td>\n",
       "      <td>1</td>\n",
       "      <td>1</td>\n",
       "      <td>0</td>\n",
       "      <td>1</td>\n",
       "      <td>Community Film Project is creating a group tha...</td>\n",
       "    </tr>\n",
       "  </tbody>\n",
       "</table>\n",
       "</div>"
      ],
      "text/plain": [
       "                                                name        category  \\\n",
       "0                    The Songs of Adelaide & Abullah          Poetry   \n",
       "1      Greeting From Earth: ZGAC Arts Capsule For ET  Narrative Film   \n",
       "2                                     Where is Hank?  Narrative Film   \n",
       "3  ToshiCapital Rekordz Needs Help to Complete Album           Music   \n",
       "4  Community Film Project: The Art of Neighborhoo...    Film & Video   \n",
       "\n",
       "  main_category currency   deadline            launched  state  backers  \\\n",
       "0    Publishing      GBP 2015-10-09 2015-08-11 12:12:28      0        0   \n",
       "1  Film & Video      USD 2017-11-01 2017-09-02 04:43:57      0       15   \n",
       "2  Film & Video      USD 2013-02-26 2013-01-12 00:20:50      0        3   \n",
       "3         Music      USD 2012-04-16 2012-03-17 03:24:11      0        1   \n",
       "4  Film & Video      USD 2015-08-29 2015-07-04 08:35:03      0       14   \n",
       "\n",
       "  country  usd_pledged_real  usd_goal_real successful_at  comments_count  \\\n",
       "0      GB               0.0        1533.95    2015-10-09               0   \n",
       "1      US            2421.0       30000.00    2017-11-01               0   \n",
       "2      US             220.0       45000.00    2013-02-26               0   \n",
       "3      US               1.0        5000.00    2012-04-16               0   \n",
       "4      US            1283.0       19500.00    2015-08-29               1   \n",
       "\n",
       "   updates_count  spotlight  staff_pick  \\\n",
       "0              0          0           0   \n",
       "1             11          0           1   \n",
       "2              0          0           0   \n",
       "3              8          0           0   \n",
       "4              1          0           1   \n",
       "\n",
       "                                               blurb  \n",
       "0  A series of poems about pure love  pursued by ...  \n",
       "1  Back artists creating short movies of Greeting...  \n",
       "2  Abandoned Property. Sounds of struggle, muffle...  \n",
       "3  Keeping Great Reggae Music Alive Through RAW T...  \n",
       "4  Community Film Project is creating a group tha...  "
      ]
     },
     "execution_count": 47,
     "metadata": {},
     "output_type": "execute_result"
    }
   ],
   "source": [
    "df.head()"
   ]
  },
  {
   "cell_type": "code",
   "execution_count": 48,
   "metadata": {},
   "outputs": [],
   "source": [
    "# remove hour/minutes/seconds from dataframe and convert year/month/day into individual features\n",
    "\n",
    "# df['launched'] = df.launched.dt.date  #gives date without hours/minutes/seconds\n",
    "df['launch_year'] = df.launched.dt.year\n",
    "df['launch_month'] = df.launched.dt.month\n",
    "df['launch_day'] = df.launched.dt.day"
   ]
  },
  {
   "cell_type": "code",
   "execution_count": 49,
   "metadata": {},
   "outputs": [],
   "source": [
    "# add a column for total active days\n",
    "df['active_days'] = df['deadline'] - df['launched']\n",
    "df['active_days'] = df.active_days.dt.components['days']"
   ]
  },
  {
   "cell_type": "code",
   "execution_count": 50,
   "metadata": {},
   "outputs": [
    {
     "data": {
      "text/plain": [
       "83"
      ]
     },
     "execution_count": 50,
     "metadata": {},
     "output_type": "execute_result"
    }
   ],
   "source": [
    "# some rows have 0 days active\n",
    "(df.active_days == 0).sum()"
   ]
  },
  {
   "cell_type": "code",
   "execution_count": 51,
   "metadata": {},
   "outputs": [],
   "source": [
    "# remove projects with 0 active days\n",
    "df = df[df.active_days != 0]"
   ]
  },
  {
   "cell_type": "code",
   "execution_count": 52,
   "metadata": {},
   "outputs": [],
   "source": [
    "# add a column for how long it took to succeed or fail, if same as 'active_days' then goal never reached\n",
    "df['successful_days'] = df['successful_at'] - df['launched'] \n",
    "df['successful_days'] = df.successful_days.dt.components['days']"
   ]
  },
  {
   "cell_type": "code",
   "execution_count": 53,
   "metadata": {},
   "outputs": [],
   "source": [
    "# create new ratio column of state_change / active_days to find how soon state was reached\n",
    "# higher number means it took longer to reach success; 1 is fail\n",
    "df['success_time_ratio'] = df['successful_days'] / df['active_days']"
   ]
  },
  {
   "cell_type": "code",
   "execution_count": 54,
   "metadata": {},
   "outputs": [
    {
     "data": {
      "text/plain": [
       "count    354477.000000\n",
       "mean         33.279869\n",
       "std          12.817863\n",
       "min           1.000000\n",
       "25%          29.000000\n",
       "50%          29.000000\n",
       "75%          36.000000\n",
       "max          91.000000\n",
       "Name: active_days, dtype: float64"
      ]
     },
     "execution_count": 54,
     "metadata": {},
     "output_type": "execute_result"
    }
   ],
   "source": [
    "df.active_days.describe()"
   ]
  },
  {
   "cell_type": "code",
   "execution_count": 55,
   "metadata": {},
   "outputs": [
    {
     "data": {
      "text/plain": [
       "count    354477.000000\n",
       "mean         33.324960\n",
       "std          12.813021\n",
       "min           1.000000\n",
       "25%          29.000000\n",
       "50%          29.000000\n",
       "75%          36.000000\n",
       "max          91.000000\n",
       "Name: successful_days, dtype: float64"
      ]
     },
     "execution_count": 55,
     "metadata": {},
     "output_type": "execute_result"
    }
   ],
   "source": [
    "df.successful_days.describe()"
   ]
  },
  {
   "cell_type": "code",
   "execution_count": 56,
   "metadata": {},
   "outputs": [
    {
     "data": {
      "text/plain": [
       "count    354477.000000\n",
       "mean          1.001840\n",
       "std           0.013674\n",
       "min           0.475000\n",
       "25%           1.000000\n",
       "50%           1.000000\n",
       "75%           1.000000\n",
       "max           2.310345\n",
       "Name: success_time_ratio, dtype: float64"
      ]
     },
     "execution_count": 56,
     "metadata": {},
     "output_type": "execute_result"
    }
   ],
   "source": [
    "# should not get a value greater than 1 unless the successful day came after the deadline\n",
    "# all successful projects should be under value of 1, failed projects should be equal to 1\n",
    "# Days until success too unreliable to use for regression (problem with successful_at column)\n",
    "\n",
    "df.success_time_ratio.describe()"
   ]
  },
  {
   "cell_type": "code",
   "execution_count": 57,
   "metadata": {},
   "outputs": [
    {
     "data": {
      "text/html": [
       "<div>\n",
       "<style scoped>\n",
       "    .dataframe tbody tr th:only-of-type {\n",
       "        vertical-align: middle;\n",
       "    }\n",
       "\n",
       "    .dataframe tbody tr th {\n",
       "        vertical-align: top;\n",
       "    }\n",
       "\n",
       "    .dataframe thead th {\n",
       "        text-align: right;\n",
       "    }\n",
       "</style>\n",
       "<table border=\"1\" class=\"dataframe\">\n",
       "  <thead>\n",
       "    <tr style=\"text-align: right;\">\n",
       "      <th></th>\n",
       "      <th>state</th>\n",
       "      <th>backers</th>\n",
       "      <th>usd_pledged_real</th>\n",
       "      <th>usd_goal_real</th>\n",
       "      <th>comments_count</th>\n",
       "      <th>updates_count</th>\n",
       "      <th>spotlight</th>\n",
       "      <th>staff_pick</th>\n",
       "      <th>launch_year</th>\n",
       "      <th>launch_month</th>\n",
       "      <th>launch_day</th>\n",
       "      <th>active_days</th>\n",
       "      <th>successful_days</th>\n",
       "      <th>success_time_ratio</th>\n",
       "    </tr>\n",
       "  </thead>\n",
       "  <tbody>\n",
       "    <tr>\n",
       "      <th>count</th>\n",
       "      <td>354477.000000</td>\n",
       "      <td>354477.000000</td>\n",
       "      <td>3.544770e+05</td>\n",
       "      <td>3.544770e+05</td>\n",
       "      <td>354477.000000</td>\n",
       "      <td>354477.000000</td>\n",
       "      <td>354477.000000</td>\n",
       "      <td>354477.000000</td>\n",
       "      <td>354477.000000</td>\n",
       "      <td>354477.000000</td>\n",
       "      <td>354477.000000</td>\n",
       "      <td>354477.000000</td>\n",
       "      <td>354477.000000</td>\n",
       "      <td>354477.000000</td>\n",
       "    </tr>\n",
       "    <tr>\n",
       "      <th>mean</th>\n",
       "      <td>0.374487</td>\n",
       "      <td>110.848884</td>\n",
       "      <td>9.493262e+03</td>\n",
       "      <td>4.600686e+04</td>\n",
       "      <td>41.400458</td>\n",
       "      <td>5.137885</td>\n",
       "      <td>0.374467</td>\n",
       "      <td>0.098731</td>\n",
       "      <td>2014.156027</td>\n",
       "      <td>6.453773</td>\n",
       "      <td>15.302795</td>\n",
       "      <td>33.279869</td>\n",
       "      <td>33.324960</td>\n",
       "      <td>1.001840</td>\n",
       "    </tr>\n",
       "    <tr>\n",
       "      <th>std</th>\n",
       "      <td>0.483991</td>\n",
       "      <td>934.952640</td>\n",
       "      <td>9.364512e+04</td>\n",
       "      <td>1.140950e+06</td>\n",
       "      <td>1171.240286</td>\n",
       "      <td>9.973905</td>\n",
       "      <td>0.483986</td>\n",
       "      <td>0.298301</td>\n",
       "      <td>1.936367</td>\n",
       "      <td>3.278976</td>\n",
       "      <td>8.811679</td>\n",
       "      <td>12.817863</td>\n",
       "      <td>12.813021</td>\n",
       "      <td>0.013674</td>\n",
       "    </tr>\n",
       "    <tr>\n",
       "      <th>min</th>\n",
       "      <td>0.000000</td>\n",
       "      <td>0.000000</td>\n",
       "      <td>0.000000e+00</td>\n",
       "      <td>1.000000e-02</td>\n",
       "      <td>0.000000</td>\n",
       "      <td>0.000000</td>\n",
       "      <td>0.000000</td>\n",
       "      <td>0.000000</td>\n",
       "      <td>2009.000000</td>\n",
       "      <td>1.000000</td>\n",
       "      <td>1.000000</td>\n",
       "      <td>1.000000</td>\n",
       "      <td>1.000000</td>\n",
       "      <td>0.475000</td>\n",
       "    </tr>\n",
       "    <tr>\n",
       "      <th>25%</th>\n",
       "      <td>0.000000</td>\n",
       "      <td>2.000000</td>\n",
       "      <td>3.900000e+01</td>\n",
       "      <td>2.000000e+03</td>\n",
       "      <td>0.000000</td>\n",
       "      <td>0.000000</td>\n",
       "      <td>0.000000</td>\n",
       "      <td>0.000000</td>\n",
       "      <td>2013.000000</td>\n",
       "      <td>4.000000</td>\n",
       "      <td>8.000000</td>\n",
       "      <td>29.000000</td>\n",
       "      <td>29.000000</td>\n",
       "      <td>1.000000</td>\n",
       "    </tr>\n",
       "    <tr>\n",
       "      <th>50%</th>\n",
       "      <td>0.000000</td>\n",
       "      <td>13.000000</td>\n",
       "      <td>7.000000e+02</td>\n",
       "      <td>5.500000e+03</td>\n",
       "      <td>0.000000</td>\n",
       "      <td>1.000000</td>\n",
       "      <td>0.000000</td>\n",
       "      <td>0.000000</td>\n",
       "      <td>2014.000000</td>\n",
       "      <td>7.000000</td>\n",
       "      <td>15.000000</td>\n",
       "      <td>29.000000</td>\n",
       "      <td>29.000000</td>\n",
       "      <td>1.000000</td>\n",
       "    </tr>\n",
       "    <tr>\n",
       "      <th>75%</th>\n",
       "      <td>1.000000</td>\n",
       "      <td>60.000000</td>\n",
       "      <td>4.300000e+03</td>\n",
       "      <td>1.550000e+04</td>\n",
       "      <td>3.000000</td>\n",
       "      <td>6.000000</td>\n",
       "      <td>1.000000</td>\n",
       "      <td>0.000000</td>\n",
       "      <td>2016.000000</td>\n",
       "      <td>9.000000</td>\n",
       "      <td>23.000000</td>\n",
       "      <td>36.000000</td>\n",
       "      <td>36.000000</td>\n",
       "      <td>1.000000</td>\n",
       "    </tr>\n",
       "    <tr>\n",
       "      <th>max</th>\n",
       "      <td>1.000000</td>\n",
       "      <td>219382.000000</td>\n",
       "      <td>2.033899e+07</td>\n",
       "      <td>1.663614e+08</td>\n",
       "      <td>393425.000000</td>\n",
       "      <td>412.000000</td>\n",
       "      <td>1.000000</td>\n",
       "      <td>1.000000</td>\n",
       "      <td>2017.000000</td>\n",
       "      <td>12.000000</td>\n",
       "      <td>31.000000</td>\n",
       "      <td>91.000000</td>\n",
       "      <td>91.000000</td>\n",
       "      <td>2.310345</td>\n",
       "    </tr>\n",
       "  </tbody>\n",
       "</table>\n",
       "</div>"
      ],
      "text/plain": [
       "               state        backers  usd_pledged_real  usd_goal_real  \\\n",
       "count  354477.000000  354477.000000      3.544770e+05   3.544770e+05   \n",
       "mean        0.374487     110.848884      9.493262e+03   4.600686e+04   \n",
       "std         0.483991     934.952640      9.364512e+04   1.140950e+06   \n",
       "min         0.000000       0.000000      0.000000e+00   1.000000e-02   \n",
       "25%         0.000000       2.000000      3.900000e+01   2.000000e+03   \n",
       "50%         0.000000      13.000000      7.000000e+02   5.500000e+03   \n",
       "75%         1.000000      60.000000      4.300000e+03   1.550000e+04   \n",
       "max         1.000000  219382.000000      2.033899e+07   1.663614e+08   \n",
       "\n",
       "       comments_count  updates_count      spotlight     staff_pick  \\\n",
       "count   354477.000000  354477.000000  354477.000000  354477.000000   \n",
       "mean        41.400458       5.137885       0.374467       0.098731   \n",
       "std       1171.240286       9.973905       0.483986       0.298301   \n",
       "min          0.000000       0.000000       0.000000       0.000000   \n",
       "25%          0.000000       0.000000       0.000000       0.000000   \n",
       "50%          0.000000       1.000000       0.000000       0.000000   \n",
       "75%          3.000000       6.000000       1.000000       0.000000   \n",
       "max     393425.000000     412.000000       1.000000       1.000000   \n",
       "\n",
       "         launch_year   launch_month     launch_day    active_days  \\\n",
       "count  354477.000000  354477.000000  354477.000000  354477.000000   \n",
       "mean     2014.156027       6.453773      15.302795      33.279869   \n",
       "std         1.936367       3.278976       8.811679      12.817863   \n",
       "min      2009.000000       1.000000       1.000000       1.000000   \n",
       "25%      2013.000000       4.000000       8.000000      29.000000   \n",
       "50%      2014.000000       7.000000      15.000000      29.000000   \n",
       "75%      2016.000000       9.000000      23.000000      36.000000   \n",
       "max      2017.000000      12.000000      31.000000      91.000000   \n",
       "\n",
       "       successful_days  success_time_ratio  \n",
       "count    354477.000000       354477.000000  \n",
       "mean         33.324960            1.001840  \n",
       "std          12.813021            0.013674  \n",
       "min           1.000000            0.475000  \n",
       "25%          29.000000            1.000000  \n",
       "50%          29.000000            1.000000  \n",
       "75%          36.000000            1.000000  \n",
       "max          91.000000            2.310345  "
      ]
     },
     "execution_count": 57,
     "metadata": {},
     "output_type": "execute_result"
    }
   ],
   "source": [
    "df.describe()"
   ]
  },
  {
   "cell_type": "code",
   "execution_count": null,
   "metadata": {},
   "outputs": [],
   "source": []
  },
  {
   "cell_type": "code",
   "execution_count": 58,
   "metadata": {},
   "outputs": [],
   "source": [
    "# compare properties of sucesses and failures\n",
    "successes = df[df['state']==1].groupby('main_category')[['backers', 'usd_pledged_real', 'usd_goal_real', 'active_days', 'success_time_ratio']].mean()\n",
    "failures = df[df['state']==0].groupby('main_category')[['backers', 'usd_pledged_real', 'usd_goal_real', 'active_days', 'success_time_ratio']].mean()\n"
   ]
  },
  {
   "cell_type": "code",
   "execution_count": 59,
   "metadata": {},
   "outputs": [
    {
     "data": {
      "image/png": "[encoded data removed]",
      "text/plain": [
       "<Figure size 720x360 with 4 Axes>"
      ]
     },
     "metadata": {},
     "output_type": "display_data"
    }
   ],
   "source": [
    "fig, ax = plt.subplots(2, 2, figsize = (10, 5))\n",
    "\n",
    "ax[0,0].bar(x = successes.index, height = successes.backers)\n",
    "ax[0,1].bar(x = successes.index, height = successes.usd_pledged_real)\n",
    "ax[1,0].bar(x = successes.index, height = successes.usd_goal_real)\n",
    "ax[1,1].bar(x = successes.index, height = successes.active_days)\n",
    "\n",
    "ax[0,0].set_title('Average Backers (Success)')\n",
    "ax[0,1].set_title('Average Pledged ($) (Success)')\n",
    "ax[1,0].set_title('Average Goal ($) (Success)')\n",
    "ax[1,1].set_title('Average Days Active (Success)')\n",
    "\n",
    "ax[0,0].set_xticklabels(successes.index, rotation=90)\n",
    "ax[0,1].set_xticklabels(successes.index, rotation=90)\n",
    "ax[1,0].set_xticklabels(successes.index, rotation=90)\n",
    "ax[1,1].set_xticklabels(successes.index, rotation=90)\n",
    "fig.tight_layout()"
   ]
  },
  {
   "cell_type": "code",
   "execution_count": 60,
   "metadata": {},
   "outputs": [
    {
     "data": {
      "image/png": "[encoded data removed]",
      "text/plain": [
       "<Figure size 720x360 with 4 Axes>"
      ]
     },
     "metadata": {},
     "output_type": "display_data"
    }
   ],
   "source": [
    "fig, ax = plt.subplots(2, 2, figsize = (10, 5))\n",
    "\n",
    "ax[0,0].bar(x = failures.index, height = failures.backers)\n",
    "ax[0,1].bar(x = failures.index, height = failures.usd_pledged_real)\n",
    "ax[1,0].bar(x = failures.index, height = failures.usd_goal_real)\n",
    "ax[1,1].bar(x = failures.index, height = failures.active_days)\n",
    "\n",
    "ax[0,0].set_title('Average Backers (Fail)')\n",
    "ax[0,1].set_title('Average Pledged ($) (Fail)')\n",
    "ax[1,0].set_title('Average Goal ($) (Fail)')\n",
    "ax[1,1].set_title('Average Days Active (Fail)')\n",
    "\n",
    "ax[0,0].set_xticklabels(failures.index, rotation=90)\n",
    "ax[0,1].set_xticklabels(failures.index, rotation=90)\n",
    "ax[1,0].set_xticklabels(failures.index, rotation=90)\n",
    "ax[1,1].set_xticklabels(failures.index, rotation=90)\n",
    "fig.tight_layout()"
   ]
  },
  {
   "cell_type": "code",
   "execution_count": 74,
   "metadata": {},
   "outputs": [],
   "source": [
    "# how many days until state reached?\n",
    "\n",
    "# ratio = pd.DataFrame({'Days when Success Reached': successes.success_time_ratio,\n",
    "#                    'Days when Fail Reached': failures.success_time_ratio}, index=successes.index)\n",
    "# ax = ratio.plot.bar()"
   ]
  },
  {
   "cell_type": "code",
   "execution_count": 62,
   "metadata": {},
   "outputs": [],
   "source": [
    "# drop original launch and deadline columns for redundancy\n",
    "# df = df.drop(['deadline', 'launched'], axis =1)"
   ]
  },
  {
   "cell_type": "code",
   "execution_count": 75,
   "metadata": {},
   "outputs": [],
   "source": [
    "df = df.drop(['deadline', 'launched', 'successful_at', 'successful_days', 'success_time_ratio'], axis=1)"
   ]
  },
  {
   "cell_type": "code",
   "execution_count": 76,
   "metadata": {},
   "outputs": [
    {
     "name": "stdout",
     "output_type": "stream",
     "text": [
      "<class 'pandas.core.frame.DataFrame'>\n",
      "Int64Index: 354477 entries, 0 to 360743\n",
      "Data columns (total 18 columns):\n",
      " #   Column            Non-Null Count   Dtype  \n",
      "---  ------            --------------   -----  \n",
      " 0   name              354477 non-null  object \n",
      " 1   category          354477 non-null  object \n",
      " 2   main_category     354477 non-null  object \n",
      " 3   currency          354477 non-null  object \n",
      " 4   state             354477 non-null  int64  \n",
      " 5   backers           354477 non-null  int64  \n",
      " 6   country           354477 non-null  object \n",
      " 7   usd_pledged_real  354477 non-null  float64\n",
      " 8   usd_goal_real     354477 non-null  float64\n",
      " 9   comments_count    354477 non-null  int64  \n",
      " 10  updates_count     354477 non-null  int64  \n",
      " 11  spotlight         354477 non-null  int64  \n",
      " 12  staff_pick        354477 non-null  int64  \n",
      " 13  blurb             354477 non-null  object \n",
      " 14  launch_year       354477 non-null  int64  \n",
      " 15  launch_month      354477 non-null  int64  \n",
      " 16  launch_day        354477 non-null  int64  \n",
      " 17  active_days       354477 non-null  int64  \n",
      "dtypes: float64(2), int64(10), object(6)\n",
      "memory usage: 51.4+ MB\n"
     ]
    }
   ],
   "source": [
    "df.info()"
   ]
  },
  {
   "cell_type": "markdown",
   "metadata": {},
   "source": [
    "### For Modeling"
   ]
  },
  {
   "cell_type": "code",
   "execution_count": 77,
   "metadata": {},
   "outputs": [],
   "source": [
    "# save df for modeling\n",
    "df.to_csv('data/model_df.csv')"
   ]
  },
  {
   "cell_type": "code",
   "execution_count": 78,
   "metadata": {},
   "outputs": [
    {
     "data": {
      "text/html": [
       "<div>\n",
       "<style scoped>\n",
       "    .dataframe tbody tr th:only-of-type {\n",
       "        vertical-align: middle;\n",
       "    }\n",
       "\n",
       "    .dataframe tbody tr th {\n",
       "        vertical-align: top;\n",
       "    }\n",
       "\n",
       "    .dataframe thead th {\n",
       "        text-align: right;\n",
       "    }\n",
       "</style>\n",
       "<table border=\"1\" class=\"dataframe\">\n",
       "  <thead>\n",
       "    <tr style=\"text-align: right;\">\n",
       "      <th></th>\n",
       "      <th>name</th>\n",
       "      <th>blurb</th>\n",
       "      <th>state</th>\n",
       "    </tr>\n",
       "  </thead>\n",
       "  <tbody>\n",
       "    <tr>\n",
       "      <th>0</th>\n",
       "      <td>The Songs of Adelaide &amp; Abullah</td>\n",
       "      <td>A series of poems about pure love  pursued by ...</td>\n",
       "      <td>0</td>\n",
       "    </tr>\n",
       "    <tr>\n",
       "      <th>1</th>\n",
       "      <td>Greeting From Earth: ZGAC Arts Capsule For ET</td>\n",
       "      <td>Back artists creating short movies of Greeting...</td>\n",
       "      <td>0</td>\n",
       "    </tr>\n",
       "    <tr>\n",
       "      <th>2</th>\n",
       "      <td>Where is Hank?</td>\n",
       "      <td>Abandoned Property. Sounds of struggle, muffle...</td>\n",
       "      <td>0</td>\n",
       "    </tr>\n",
       "    <tr>\n",
       "      <th>3</th>\n",
       "      <td>ToshiCapital Rekordz Needs Help to Complete Album</td>\n",
       "      <td>Keeping Great Reggae Music Alive Through RAW T...</td>\n",
       "      <td>0</td>\n",
       "    </tr>\n",
       "    <tr>\n",
       "      <th>4</th>\n",
       "      <td>Community Film Project: The Art of Neighborhoo...</td>\n",
       "      <td>Community Film Project is creating a group tha...</td>\n",
       "      <td>0</td>\n",
       "    </tr>\n",
       "  </tbody>\n",
       "</table>\n",
       "</div>"
      ],
      "text/plain": [
       "                                                name  \\\n",
       "0                    The Songs of Adelaide & Abullah   \n",
       "1      Greeting From Earth: ZGAC Arts Capsule For ET   \n",
       "2                                     Where is Hank?   \n",
       "3  ToshiCapital Rekordz Needs Help to Complete Album   \n",
       "4  Community Film Project: The Art of Neighborhoo...   \n",
       "\n",
       "                                               blurb  state  \n",
       "0  A series of poems about pure love  pursued by ...      0  \n",
       "1  Back artists creating short movies of Greeting...      0  \n",
       "2  Abandoned Property. Sounds of struggle, muffle...      0  \n",
       "3  Keeping Great Reggae Music Alive Through RAW T...      0  \n",
       "4  Community Film Project is creating a group tha...      0  "
      ]
     },
     "execution_count": 78,
     "metadata": {},
     "output_type": "execute_result"
    }
   ],
   "source": [
    "#NLP Dataframe\n",
    "\n",
    "nlp = df[['name', 'blurb', 'state']];\n",
    "nlp.head()"
   ]
  },
  {
   "cell_type": "code",
   "execution_count": 66,
   "metadata": {},
   "outputs": [],
   "source": [
    "# df without 'name' or 'country' column (or 'backers' or 'usd_pledged_real' causing data leakage)\n",
    "\n",
    "df1 = df[['category','main_category', 'usd_goal_real','currency', 'country','launch_year', 'launch_month', 'launch_day','comments_count','updates_count','spotlight','staff_pick','active_days', 'state']]"
   ]
  },
  {
   "cell_type": "code",
   "execution_count": 79,
   "metadata": {},
   "outputs": [
    {
     "data": {
      "text/html": [
       "<div>\n",
       "<style scoped>\n",
       "    .dataframe tbody tr th:only-of-type {\n",
       "        vertical-align: middle;\n",
       "    }\n",
       "\n",
       "    .dataframe tbody tr th {\n",
       "        vertical-align: top;\n",
       "    }\n",
       "\n",
       "    .dataframe thead th {\n",
       "        text-align: right;\n",
       "    }\n",
       "</style>\n",
       "<table border=\"1\" class=\"dataframe\">\n",
       "  <thead>\n",
       "    <tr style=\"text-align: right;\">\n",
       "      <th></th>\n",
       "      <th>name</th>\n",
       "      <th>category</th>\n",
       "      <th>main_category</th>\n",
       "      <th>currency</th>\n",
       "      <th>state</th>\n",
       "      <th>backers</th>\n",
       "      <th>country</th>\n",
       "      <th>usd_pledged_real</th>\n",
       "      <th>usd_goal_real</th>\n",
       "      <th>comments_count</th>\n",
       "      <th>updates_count</th>\n",
       "      <th>spotlight</th>\n",
       "      <th>staff_pick</th>\n",
       "      <th>blurb</th>\n",
       "      <th>launch_year</th>\n",
       "      <th>launch_month</th>\n",
       "      <th>launch_day</th>\n",
       "      <th>active_days</th>\n",
       "    </tr>\n",
       "  </thead>\n",
       "  <tbody>\n",
       "    <tr>\n",
       "      <th>5</th>\n",
       "      <td>Monarch Espresso Bar</td>\n",
       "      <td>Restaurants</td>\n",
       "      <td>Food</td>\n",
       "      <td>USD</td>\n",
       "      <td>1</td>\n",
       "      <td>224</td>\n",
       "      <td>US</td>\n",
       "      <td>52375.00</td>\n",
       "      <td>50000.00</td>\n",
       "      <td>3</td>\n",
       "      <td>3</td>\n",
       "      <td>1</td>\n",
       "      <td>0</td>\n",
       "      <td>Alumni-owned, community-powered craft coffee s...</td>\n",
       "      <td>2016</td>\n",
       "      <td>2</td>\n",
       "      <td>26</td>\n",
       "      <td>34</td>\n",
       "    </tr>\n",
       "    <tr>\n",
       "      <th>6</th>\n",
       "      <td>Support Solar Roasted Coffee &amp; Green Energy!  ...</td>\n",
       "      <td>Food</td>\n",
       "      <td>Food</td>\n",
       "      <td>USD</td>\n",
       "      <td>1</td>\n",
       "      <td>16</td>\n",
       "      <td>US</td>\n",
       "      <td>1205.00</td>\n",
       "      <td>1000.00</td>\n",
       "      <td>0</td>\n",
       "      <td>4</td>\n",
       "      <td>1</td>\n",
       "      <td>0</td>\n",
       "      <td>Help offset your carbon footprint of coffee.  ...</td>\n",
       "      <td>2014</td>\n",
       "      <td>12</td>\n",
       "      <td>1</td>\n",
       "      <td>19</td>\n",
       "    </tr>\n",
       "    <tr>\n",
       "      <th>11</th>\n",
       "      <td>Lisa Lim New CD!</td>\n",
       "      <td>Indie Rock</td>\n",
       "      <td>Music</td>\n",
       "      <td>USD</td>\n",
       "      <td>1</td>\n",
       "      <td>100</td>\n",
       "      <td>US</td>\n",
       "      <td>12700.00</td>\n",
       "      <td>12500.00</td>\n",
       "      <td>5</td>\n",
       "      <td>20</td>\n",
       "      <td>1</td>\n",
       "      <td>0</td>\n",
       "      <td>Fresh new music coming at ya on Lisa Lim's new...</td>\n",
       "      <td>2013</td>\n",
       "      <td>3</td>\n",
       "      <td>9</td>\n",
       "      <td>29</td>\n",
       "    </tr>\n",
       "    <tr>\n",
       "      <th>14</th>\n",
       "      <td>Tombstone: Old West tabletop game and miniatur...</td>\n",
       "      <td>Tabletop Games</td>\n",
       "      <td>Games</td>\n",
       "      <td>GBP</td>\n",
       "      <td>1</td>\n",
       "      <td>761</td>\n",
       "      <td>GB</td>\n",
       "      <td>121857.33</td>\n",
       "      <td>6469.73</td>\n",
       "      <td>944</td>\n",
       "      <td>33</td>\n",
       "      <td>1</td>\n",
       "      <td>0</td>\n",
       "      <td>Old west gaming rulebook available in English,...</td>\n",
       "      <td>2017</td>\n",
       "      <td>4</td>\n",
       "      <td>5</td>\n",
       "      <td>27</td>\n",
       "    </tr>\n",
       "    <tr>\n",
       "      <th>17</th>\n",
       "      <td>Mike Corey's Darkness &amp; Light Album</td>\n",
       "      <td>Music</td>\n",
       "      <td>Music</td>\n",
       "      <td>USD</td>\n",
       "      <td>1</td>\n",
       "      <td>7</td>\n",
       "      <td>US</td>\n",
       "      <td>250.00</td>\n",
       "      <td>250.00</td>\n",
       "      <td>0</td>\n",
       "      <td>3</td>\n",
       "      <td>1</td>\n",
       "      <td>0</td>\n",
       "      <td>Based on the true story of the artist himself ...</td>\n",
       "      <td>2012</td>\n",
       "      <td>8</td>\n",
       "      <td>2</td>\n",
       "      <td>14</td>\n",
       "    </tr>\n",
       "    <tr>\n",
       "      <th>19</th>\n",
       "      <td>CMUK. Shoes: Take on Life Feet First.</td>\n",
       "      <td>Fashion</td>\n",
       "      <td>Fashion</td>\n",
       "      <td>USD</td>\n",
       "      <td>1</td>\n",
       "      <td>624</td>\n",
       "      <td>US</td>\n",
       "      <td>34268.00</td>\n",
       "      <td>20000.00</td>\n",
       "      <td>260</td>\n",
       "      <td>15</td>\n",
       "      <td>1</td>\n",
       "      <td>0</td>\n",
       "      <td>Anytime, Anywhere Footwear. Explore your homet...</td>\n",
       "      <td>2013</td>\n",
       "      <td>11</td>\n",
       "      <td>25</td>\n",
       "      <td>34</td>\n",
       "    </tr>\n",
       "    <tr>\n",
       "      <th>23</th>\n",
       "      <td>The Book Zoo - A Mini-Comic</td>\n",
       "      <td>Comics</td>\n",
       "      <td>Comics</td>\n",
       "      <td>USD</td>\n",
       "      <td>1</td>\n",
       "      <td>66</td>\n",
       "      <td>US</td>\n",
       "      <td>701.66</td>\n",
       "      <td>175.00</td>\n",
       "      <td>0</td>\n",
       "      <td>15</td>\n",
       "      <td>1</td>\n",
       "      <td>1</td>\n",
       "      <td>A 20 Page Story About Books in a Petting Zoo</td>\n",
       "      <td>2014</td>\n",
       "      <td>10</td>\n",
       "      <td>23</td>\n",
       "      <td>19</td>\n",
       "    </tr>\n",
       "    <tr>\n",
       "      <th>24</th>\n",
       "      <td>Matt Cavenaugh &amp; Jenny Powers make their 1st a...</td>\n",
       "      <td>Music</td>\n",
       "      <td>Music</td>\n",
       "      <td>USD</td>\n",
       "      <td>1</td>\n",
       "      <td>147</td>\n",
       "      <td>US</td>\n",
       "      <td>15827.00</td>\n",
       "      <td>10000.00</td>\n",
       "      <td>26</td>\n",
       "      <td>11</td>\n",
       "      <td>1</td>\n",
       "      <td>0</td>\n",
       "      <td>We're joining forces to self-produce our 1st a...</td>\n",
       "      <td>2010</td>\n",
       "      <td>12</td>\n",
       "      <td>7</td>\n",
       "      <td>29</td>\n",
       "    </tr>\n",
       "    <tr>\n",
       "      <th>26</th>\n",
       "      <td>Permaculture Skills</td>\n",
       "      <td>Webseries</td>\n",
       "      <td>Film &amp; Video</td>\n",
       "      <td>CAD</td>\n",
       "      <td>1</td>\n",
       "      <td>571</td>\n",
       "      <td>CA</td>\n",
       "      <td>42174.03</td>\n",
       "      <td>15313.04</td>\n",
       "      <td>23</td>\n",
       "      <td>12</td>\n",
       "      <td>1</td>\n",
       "      <td>0</td>\n",
       "      <td>A film series distilled from 20 days of cold-c...</td>\n",
       "      <td>2014</td>\n",
       "      <td>11</td>\n",
       "      <td>14</td>\n",
       "      <td>29</td>\n",
       "    </tr>\n",
       "    <tr>\n",
       "      <th>27</th>\n",
       "      <td>My Moon - Animated Short Film</td>\n",
       "      <td>Animation</td>\n",
       "      <td>Film &amp; Video</td>\n",
       "      <td>USD</td>\n",
       "      <td>1</td>\n",
       "      <td>840</td>\n",
       "      <td>US</td>\n",
       "      <td>57577.31</td>\n",
       "      <td>50000.00</td>\n",
       "      <td>39</td>\n",
       "      <td>25</td>\n",
       "      <td>1</td>\n",
       "      <td>1</td>\n",
       "      <td>The Earth struggles to balance her relationshi...</td>\n",
       "      <td>2017</td>\n",
       "      <td>4</td>\n",
       "      <td>3</td>\n",
       "      <td>29</td>\n",
       "    </tr>\n",
       "  </tbody>\n",
       "</table>\n",
       "</div>"
      ],
      "text/plain": [
       "                                                 name        category  \\\n",
       "5                                Monarch Espresso Bar     Restaurants   \n",
       "6   Support Solar Roasted Coffee & Green Energy!  ...            Food   \n",
       "11                                   Lisa Lim New CD!      Indie Rock   \n",
       "14  Tombstone: Old West tabletop game and miniatur...  Tabletop Games   \n",
       "17                Mike Corey's Darkness & Light Album           Music   \n",
       "19              CMUK. Shoes: Take on Life Feet First.         Fashion   \n",
       "23                        The Book Zoo - A Mini-Comic          Comics   \n",
       "24  Matt Cavenaugh & Jenny Powers make their 1st a...           Music   \n",
       "26                                Permaculture Skills       Webseries   \n",
       "27                      My Moon - Animated Short Film       Animation   \n",
       "\n",
       "   main_category currency  state  backers country  usd_pledged_real  \\\n",
       "5           Food      USD      1      224      US          52375.00   \n",
       "6           Food      USD      1       16      US           1205.00   \n",
       "11         Music      USD      1      100      US          12700.00   \n",
       "14         Games      GBP      1      761      GB         121857.33   \n",
       "17         Music      USD      1        7      US            250.00   \n",
       "19       Fashion      USD      1      624      US          34268.00   \n",
       "23        Comics      USD      1       66      US            701.66   \n",
       "24         Music      USD      1      147      US          15827.00   \n",
       "26  Film & Video      CAD      1      571      CA          42174.03   \n",
       "27  Film & Video      USD      1      840      US          57577.31   \n",
       "\n",
       "    usd_goal_real  comments_count  updates_count  spotlight  staff_pick  \\\n",
       "5        50000.00               3              3          1           0   \n",
       "6         1000.00               0              4          1           0   \n",
       "11       12500.00               5             20          1           0   \n",
       "14        6469.73             944             33          1           0   \n",
       "17         250.00               0              3          1           0   \n",
       "19       20000.00             260             15          1           0   \n",
       "23         175.00               0             15          1           1   \n",
       "24       10000.00              26             11          1           0   \n",
       "26       15313.04              23             12          1           0   \n",
       "27       50000.00              39             25          1           1   \n",
       "\n",
       "                                                blurb  launch_year  \\\n",
       "5   Alumni-owned, community-powered craft coffee s...         2016   \n",
       "6   Help offset your carbon footprint of coffee.  ...         2014   \n",
       "11  Fresh new music coming at ya on Lisa Lim's new...         2013   \n",
       "14  Old west gaming rulebook available in English,...         2017   \n",
       "17  Based on the true story of the artist himself ...         2012   \n",
       "19  Anytime, Anywhere Footwear. Explore your homet...         2013   \n",
       "23       A 20 Page Story About Books in a Petting Zoo         2014   \n",
       "24  We're joining forces to self-produce our 1st a...         2010   \n",
       "26  A film series distilled from 20 days of cold-c...         2014   \n",
       "27  The Earth struggles to balance her relationshi...         2017   \n",
       "\n",
       "    launch_month  launch_day  active_days  \n",
       "5              2          26           34  \n",
       "6             12           1           19  \n",
       "11             3           9           29  \n",
       "14             4           5           27  \n",
       "17             8           2           14  \n",
       "19            11          25           34  \n",
       "23            10          23           19  \n",
       "24            12           7           29  \n",
       "26            11          14           29  \n",
       "27             4           3           29  "
      ]
     },
     "execution_count": 79,
     "metadata": {},
     "output_type": "execute_result"
    }
   ],
   "source": [
    "#visualize successful projects\n",
    "\n",
    "df[df['state']==1].head(10)"
   ]
  },
  {
   "cell_type": "code",
   "execution_count": 68,
   "metadata": {},
   "outputs": [
    {
     "data": {
      "text/plain": [
       "(354477, 11)"
      ]
     },
     "execution_count": 68,
     "metadata": {},
     "output_type": "execute_result"
    }
   ],
   "source": [
    "df1.shape"
   ]
  },
  {
   "cell_type": "code",
   "execution_count": 69,
   "metadata": {},
   "outputs": [],
   "source": [
    "# get dummies for main_category, currency, and country\n",
    "\n",
    "df1 = pd.get_dummies(df1, columns= ['category','main_category', 'currency'], drop_first = True)\n"
   ]
  },
  {
   "cell_type": "code",
   "execution_count": 70,
   "metadata": {},
   "outputs": [
    {
     "data": {
      "text/plain": [
       "(354477, 193)"
      ]
     },
     "execution_count": 70,
     "metadata": {},
     "output_type": "execute_result"
    }
   ],
   "source": [
    "df1.shape"
   ]
  },
  {
   "cell_type": "code",
   "execution_count": 71,
   "metadata": {},
   "outputs": [
    {
     "data": {
      "text/html": [
       "<div>\n",
       "<style scoped>\n",
       "    .dataframe tbody tr th:only-of-type {\n",
       "        vertical-align: middle;\n",
       "    }\n",
       "\n",
       "    .dataframe tbody tr th {\n",
       "        vertical-align: top;\n",
       "    }\n",
       "\n",
       "    .dataframe thead th {\n",
       "        text-align: right;\n",
       "    }\n",
       "</style>\n",
       "<table border=\"1\" class=\"dataframe\">\n",
       "  <thead>\n",
       "    <tr style=\"text-align: right;\">\n",
       "      <th></th>\n",
       "      <th>backers</th>\n",
       "      <th>launch_year</th>\n",
       "      <th>launch_month</th>\n",
       "      <th>launch_day</th>\n",
       "      <th>active_days</th>\n",
       "      <th>usd_pledged_real</th>\n",
       "      <th>usd_goal_real</th>\n",
       "      <th>state</th>\n",
       "      <th>category_Academic</th>\n",
       "      <th>category_Accessories</th>\n",
       "      <th>...</th>\n",
       "      <th>currency_EUR</th>\n",
       "      <th>currency_GBP</th>\n",
       "      <th>currency_HKD</th>\n",
       "      <th>currency_JPY</th>\n",
       "      <th>currency_MXN</th>\n",
       "      <th>currency_NOK</th>\n",
       "      <th>currency_NZD</th>\n",
       "      <th>currency_SEK</th>\n",
       "      <th>currency_SGD</th>\n",
       "      <th>currency_USD</th>\n",
       "    </tr>\n",
       "  </thead>\n",
       "  <tbody>\n",
       "    <tr>\n",
       "      <th>0</th>\n",
       "      <td>0</td>\n",
       "      <td>2015</td>\n",
       "      <td>8</td>\n",
       "      <td>11</td>\n",
       "      <td>58</td>\n",
       "      <td>0.0</td>\n",
       "      <td>1533.95</td>\n",
       "      <td>0</td>\n",
       "      <td>0</td>\n",
       "      <td>0</td>\n",
       "      <td>...</td>\n",
       "      <td>0</td>\n",
       "      <td>1</td>\n",
       "      <td>0</td>\n",
       "      <td>0</td>\n",
       "      <td>0</td>\n",
       "      <td>0</td>\n",
       "      <td>0</td>\n",
       "      <td>0</td>\n",
       "      <td>0</td>\n",
       "      <td>0</td>\n",
       "    </tr>\n",
       "    <tr>\n",
       "      <th>1</th>\n",
       "      <td>15</td>\n",
       "      <td>2017</td>\n",
       "      <td>9</td>\n",
       "      <td>2</td>\n",
       "      <td>59</td>\n",
       "      <td>2421.0</td>\n",
       "      <td>30000.00</td>\n",
       "      <td>0</td>\n",
       "      <td>0</td>\n",
       "      <td>0</td>\n",
       "      <td>...</td>\n",
       "      <td>0</td>\n",
       "      <td>0</td>\n",
       "      <td>0</td>\n",
       "      <td>0</td>\n",
       "      <td>0</td>\n",
       "      <td>0</td>\n",
       "      <td>0</td>\n",
       "      <td>0</td>\n",
       "      <td>0</td>\n",
       "      <td>1</td>\n",
       "    </tr>\n",
       "    <tr>\n",
       "      <th>2</th>\n",
       "      <td>3</td>\n",
       "      <td>2013</td>\n",
       "      <td>1</td>\n",
       "      <td>12</td>\n",
       "      <td>44</td>\n",
       "      <td>220.0</td>\n",
       "      <td>45000.00</td>\n",
       "      <td>0</td>\n",
       "      <td>0</td>\n",
       "      <td>0</td>\n",
       "      <td>...</td>\n",
       "      <td>0</td>\n",
       "      <td>0</td>\n",
       "      <td>0</td>\n",
       "      <td>0</td>\n",
       "      <td>0</td>\n",
       "      <td>0</td>\n",
       "      <td>0</td>\n",
       "      <td>0</td>\n",
       "      <td>0</td>\n",
       "      <td>1</td>\n",
       "    </tr>\n",
       "    <tr>\n",
       "      <th>3</th>\n",
       "      <td>1</td>\n",
       "      <td>2012</td>\n",
       "      <td>3</td>\n",
       "      <td>17</td>\n",
       "      <td>29</td>\n",
       "      <td>1.0</td>\n",
       "      <td>5000.00</td>\n",
       "      <td>0</td>\n",
       "      <td>0</td>\n",
       "      <td>0</td>\n",
       "      <td>...</td>\n",
       "      <td>0</td>\n",
       "      <td>0</td>\n",
       "      <td>0</td>\n",
       "      <td>0</td>\n",
       "      <td>0</td>\n",
       "      <td>0</td>\n",
       "      <td>0</td>\n",
       "      <td>0</td>\n",
       "      <td>0</td>\n",
       "      <td>1</td>\n",
       "    </tr>\n",
       "    <tr>\n",
       "      <th>4</th>\n",
       "      <td>14</td>\n",
       "      <td>2015</td>\n",
       "      <td>7</td>\n",
       "      <td>4</td>\n",
       "      <td>55</td>\n",
       "      <td>1283.0</td>\n",
       "      <td>19500.00</td>\n",
       "      <td>0</td>\n",
       "      <td>0</td>\n",
       "      <td>0</td>\n",
       "      <td>...</td>\n",
       "      <td>0</td>\n",
       "      <td>0</td>\n",
       "      <td>0</td>\n",
       "      <td>0</td>\n",
       "      <td>0</td>\n",
       "      <td>0</td>\n",
       "      <td>0</td>\n",
       "      <td>0</td>\n",
       "      <td>0</td>\n",
       "      <td>1</td>\n",
       "    </tr>\n",
       "  </tbody>\n",
       "</table>\n",
       "<p>5 rows × 193 columns</p>\n",
       "</div>"
      ],
      "text/plain": [
       "   backers  launch_year  launch_month  launch_day  active_days  \\\n",
       "0        0         2015             8          11           58   \n",
       "1       15         2017             9           2           59   \n",
       "2        3         2013             1          12           44   \n",
       "3        1         2012             3          17           29   \n",
       "4       14         2015             7           4           55   \n",
       "\n",
       "   usd_pledged_real  usd_goal_real  state  category_Academic  \\\n",
       "0               0.0        1533.95      0                  0   \n",
       "1            2421.0       30000.00      0                  0   \n",
       "2             220.0       45000.00      0                  0   \n",
       "3               1.0        5000.00      0                  0   \n",
       "4            1283.0       19500.00      0                  0   \n",
       "\n",
       "   category_Accessories  ...  currency_EUR  currency_GBP  currency_HKD  \\\n",
       "0                     0  ...             0             1             0   \n",
       "1                     0  ...             0             0             0   \n",
       "2                     0  ...             0             0             0   \n",
       "3                     0  ...             0             0             0   \n",
       "4                     0  ...             0             0             0   \n",
       "\n",
       "   currency_JPY  currency_MXN  currency_NOK  currency_NZD  currency_SEK  \\\n",
       "0             0             0             0             0             0   \n",
       "1             0             0             0             0             0   \n",
       "2             0             0             0             0             0   \n",
       "3             0             0             0             0             0   \n",
       "4             0             0             0             0             0   \n",
       "\n",
       "   currency_SGD  currency_USD  \n",
       "0             0             0  \n",
       "1             0             1  \n",
       "2             0             1  \n",
       "3             0             1  \n",
       "4             0             1  \n",
       "\n",
       "[5 rows x 193 columns]"
      ]
     },
     "execution_count": 71,
     "metadata": {},
     "output_type": "execute_result"
    }
   ],
   "source": [
    "df1.head()"
   ]
  },
  {
   "cell_type": "code",
   "execution_count": 72,
   "metadata": {},
   "outputs": [],
   "source": [
    "# Obvious problem (data leakage): If usd_pledged_real >= usd_goal_real, then success. Should be biggest indicator, backers as well\n",
    "    # dont include in models\n",
    "\n",
    "# Other thoughts:\n",
    "    # How many competitors in each category?\n",
    "    # Which categories tend to succeed more often?\n",
    "    # how many days of activity is best?\n",
    "\n",
    "# More data desired:\n",
    "    # Company statistics"
   ]
  },
  {
   "cell_type": "code",
   "execution_count": 73,
   "metadata": {},
   "outputs": [],
   "source": [
    "# Profit curve for expectation to succeed based on pledge goal\n",
    "\n",
    "# Ex. False Positive means you get no funding, false negative means you could have raised the goal (riskier)"
   ]
  },
  {
   "cell_type": "code",
   "execution_count": null,
   "metadata": {},
   "outputs": [],
   "source": []
  },
  {
   "cell_type": "code",
   "execution_count": null,
   "metadata": {},
   "outputs": [],
   "source": []
  }
 ],
 "metadata": {
  "kernelspec": {
   "display_name": "Python 3",
   "language": "python",
   "name": "python3"
  },
  "language_info": {
   "codemirror_mode": {
    "name": "ipython",
    "version": 3
   },
   "file_extension": ".py",
   "mimetype": "text/x-python",
   "name": "python",
   "nbconvert_exporter": "python",
   "pygments_lexer": "ipython3",
   "version": "3.6.9"
  }
 },
 "nbformat": 4,
 "nbformat_minor": 4
}
